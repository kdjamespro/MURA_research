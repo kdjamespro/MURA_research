{
 "cells": [
  {
   "cell_type": "code",
   "execution_count": 1,
   "metadata": {},
   "outputs": [],
   "source": [
    "import numpy as np\n",
    "import matplotlib.pyplot as plt\n",
    "import os\n",
    "import cv2\n",
    "import pandas as pd\n",
    "import tensorflow as tf\n",
    "import math\n",
    "import tensorflow_addons as tfa\n",
    "import random\n",
    "import re\n",
    "import csv\n",
    "\n",
    "\n",
    "from sklearn import metrics\n",
    "from sklearn.utils import shuffle\n",
    "from tensorflow.keras.preprocessing.image import ImageDataGenerator\n",
    "from mlxtend.evaluate import mcnemar_table\n",
    "from statsmodels.stats.contingency_tables import mcnemar\n",
    "\n",
    "\n",
    "\n",
    "\n",
    "from utils import (\n",
    "    F1Score,\n",
    "    plot_metrics,\n",
    "    plot_accuracy,\n",
    "    study_oriented_transformation,\n",
    "    write_csv,\n",
    "    prediction_results,\n",
    "    plot_confusion_matrix,\n",
    "    plot_contigency_table,\n",
    ")\n"
   ]
  },
  {
   "cell_type": "code",
   "execution_count": 2,
   "metadata": {},
   "outputs": [
    {
     "name": "stdout",
     "output_type": "stream",
     "text": [
      "Num GPUs Available:  1\n"
     ]
    },
    {
     "name": "stderr",
     "output_type": "stream",
     "text": [
      "2022-09-25 23:56:25.678237: I tensorflow/stream_executor/cuda/cuda_gpu_executor.cc:961] could not open file to read NUMA node: /sys/bus/pci/devices/0000:01:00.0/numa_node\n",
      "Your kernel may have been built without NUMA support.\n",
      "2022-09-25 23:56:25.719978: I tensorflow/stream_executor/cuda/cuda_gpu_executor.cc:961] could not open file to read NUMA node: /sys/bus/pci/devices/0000:01:00.0/numa_node\n",
      "Your kernel may have been built without NUMA support.\n",
      "2022-09-25 23:56:25.720796: I tensorflow/stream_executor/cuda/cuda_gpu_executor.cc:961] could not open file to read NUMA node: /sys/bus/pci/devices/0000:01:00.0/numa_node\n",
      "Your kernel may have been built without NUMA support.\n"
     ]
    }
   ],
   "source": [
    "# To Activate GPU if there is\n",
    "physical_devices = tf.config.experimental.list_physical_devices('GPU')\n",
    "print(\"Num GPUs Available: \", len(physical_devices))\n",
    "tf.config.experimental.set_memory_growth(physical_devices[0], True)"
   ]
  },
  {
   "cell_type": "code",
   "execution_count": 3,
   "metadata": {},
   "outputs": [],
   "source": [
    "SEED = 1037\n",
    "\n",
    "os.environ[\"PYTHONHASHSEED\"] = str(SEED)\n",
    "random.seed(SEED)\n",
    "tf.random.set_seed(SEED)\n",
    "np.random.seed(SEED)\n"
   ]
  },
  {
   "cell_type": "code",
   "execution_count": 4,
   "metadata": {},
   "outputs": [
    {
     "name": "stderr",
     "output_type": "stream",
     "text": [
      "2022-09-25 23:56:25.837425: I tensorflow/core/platform/cpu_feature_guard.cc:193] This TensorFlow binary is optimized with oneAPI Deep Neural Network Library (oneDNN) to use the following CPU instructions in performance-critical operations:  AVX2 FMA\n",
      "To enable them in other operations, rebuild TensorFlow with the appropriate compiler flags.\n",
      "2022-09-25 23:56:25.840080: I tensorflow/stream_executor/cuda/cuda_gpu_executor.cc:961] could not open file to read NUMA node: /sys/bus/pci/devices/0000:01:00.0/numa_node\n",
      "Your kernel may have been built without NUMA support.\n",
      "2022-09-25 23:56:25.840557: I tensorflow/stream_executor/cuda/cuda_gpu_executor.cc:961] could not open file to read NUMA node: /sys/bus/pci/devices/0000:01:00.0/numa_node\n",
      "Your kernel may have been built without NUMA support.\n",
      "2022-09-25 23:56:25.840993: I tensorflow/stream_executor/cuda/cuda_gpu_executor.cc:961] could not open file to read NUMA node: /sys/bus/pci/devices/0000:01:00.0/numa_node\n",
      "Your kernel may have been built without NUMA support.\n",
      "2022-09-25 23:56:27.040707: I tensorflow/stream_executor/cuda/cuda_gpu_executor.cc:961] could not open file to read NUMA node: /sys/bus/pci/devices/0000:01:00.0/numa_node\n",
      "Your kernel may have been built without NUMA support.\n",
      "2022-09-25 23:56:27.041198: I tensorflow/stream_executor/cuda/cuda_gpu_executor.cc:961] could not open file to read NUMA node: /sys/bus/pci/devices/0000:01:00.0/numa_node\n",
      "Your kernel may have been built without NUMA support.\n",
      "2022-09-25 23:56:27.041217: I tensorflow/core/common_runtime/gpu/gpu_device.cc:1616] Could not identify NUMA node of platform GPU id 0, defaulting to 0.  Your kernel may not have been built with NUMA support.\n",
      "2022-09-25 23:56:27.041657: I tensorflow/stream_executor/cuda/cuda_gpu_executor.cc:961] could not open file to read NUMA node: /sys/bus/pci/devices/0000:01:00.0/numa_node\n",
      "Your kernel may have been built without NUMA support.\n",
      "2022-09-25 23:56:27.042006: I tensorflow/core/common_runtime/gpu/gpu_device.cc:1532] Created device /job:localhost/replica:0/task:0/device:GPU:0 with 5440 MB memory:  -> device: 0, name: NVIDIA GeForce RTX 3070 Laptop GPU, pci bus id: 0000:01:00.0, compute capability: 8.6\n"
     ]
    }
   ],
   "source": [
    "METRICS = [ \n",
    "    tf.keras.metrics.BinaryAccuracy(),\n",
    "    tf.keras.metrics.Precision(name=\"precision\"),\n",
    "    tf.keras.metrics.Recall(name=\"recall\"),\n",
    "    tfa.metrics.CohenKappa(name=\"cohen_kappa\", num_classes=2),\n",
    "    F1Score(name=\"f1_score\"),\n",
    "]\n",
    "\n",
    "STUDY_TYPES = [\n",
    "    'XR_ELBOW',\n",
    "    'XR_FINGER',\n",
    "    'XR_FOREARM',\n",
    "    'XR_HAND',\n",
    "    'XR_HUMERUS',\n",
    "    'XR_SHOULDER',\n",
    "    'XR_WRIST',\n",
    "]\n",
    "\n",
    "CLASSES = ['NORMAL', 'ABNORMAL']"
   ]
  },
  {
   "cell_type": "code",
   "execution_count": 5,
   "metadata": {},
   "outputs": [],
   "source": [
    "data_directory = 'dataset'\n",
    "test_img = pd.read_csv(os.path.join(data_directory, 'MURA-v1.1/test_image_paths.csv'), names=['path'])"
   ]
  },
  {
   "cell_type": "code",
   "execution_count": 6,
   "metadata": {},
   "outputs": [
    {
     "data": {
      "text/html": [
       "<div>\n",
       "<style scoped>\n",
       "    .dataframe tbody tr th:only-of-type {\n",
       "        vertical-align: middle;\n",
       "    }\n",
       "\n",
       "    .dataframe tbody tr th {\n",
       "        vertical-align: top;\n",
       "    }\n",
       "\n",
       "    .dataframe thead th {\n",
       "        text-align: right;\n",
       "    }\n",
       "</style>\n",
       "<table border=\"1\" class=\"dataframe\">\n",
       "  <thead>\n",
       "    <tr style=\"text-align: right;\">\n",
       "      <th></th>\n",
       "      <th>path</th>\n",
       "      <th>label</th>\n",
       "      <th>study_type</th>\n",
       "    </tr>\n",
       "  </thead>\n",
       "  <tbody>\n",
       "    <tr>\n",
       "      <th>0</th>\n",
       "      <td>MURA-v1.1/test/XR_WRIST/patient11185/study1_po...</td>\n",
       "      <td>1</td>\n",
       "      <td>XR_WRIST</td>\n",
       "    </tr>\n",
       "    <tr>\n",
       "      <th>1</th>\n",
       "      <td>MURA-v1.1/test/XR_WRIST/patient11185/study1_po...</td>\n",
       "      <td>1</td>\n",
       "      <td>XR_WRIST</td>\n",
       "    </tr>\n",
       "    <tr>\n",
       "      <th>2</th>\n",
       "      <td>MURA-v1.1/test/XR_WRIST/patient11185/study1_po...</td>\n",
       "      <td>1</td>\n",
       "      <td>XR_WRIST</td>\n",
       "    </tr>\n",
       "    <tr>\n",
       "      <th>3</th>\n",
       "      <td>MURA-v1.1/test/XR_WRIST/patient11185/study1_po...</td>\n",
       "      <td>1</td>\n",
       "      <td>XR_WRIST</td>\n",
       "    </tr>\n",
       "    <tr>\n",
       "      <th>4</th>\n",
       "      <td>MURA-v1.1/test/XR_WRIST/patient11186/study1_po...</td>\n",
       "      <td>1</td>\n",
       "      <td>XR_WRIST</td>\n",
       "    </tr>\n",
       "    <tr>\n",
       "      <th>...</th>\n",
       "      <td>...</td>\n",
       "      <td>...</td>\n",
       "      <td>...</td>\n",
       "    </tr>\n",
       "    <tr>\n",
       "      <th>3192</th>\n",
       "      <td>MURA-v1.1/test/XR_FINGER/patient11967/study1_n...</td>\n",
       "      <td>0</td>\n",
       "      <td>XR_FINGER</td>\n",
       "    </tr>\n",
       "    <tr>\n",
       "      <th>3193</th>\n",
       "      <td>MURA-v1.1/test/XR_FINGER/patient11967/study1_n...</td>\n",
       "      <td>0</td>\n",
       "      <td>XR_FINGER</td>\n",
       "    </tr>\n",
       "    <tr>\n",
       "      <th>3194</th>\n",
       "      <td>MURA-v1.1/test/XR_FINGER/patient11738/study1_n...</td>\n",
       "      <td>0</td>\n",
       "      <td>XR_FINGER</td>\n",
       "    </tr>\n",
       "    <tr>\n",
       "      <th>3195</th>\n",
       "      <td>MURA-v1.1/test/XR_FINGER/patient11738/study1_n...</td>\n",
       "      <td>0</td>\n",
       "      <td>XR_FINGER</td>\n",
       "    </tr>\n",
       "    <tr>\n",
       "      <th>3196</th>\n",
       "      <td>MURA-v1.1/test/XR_FINGER/patient11738/study1_n...</td>\n",
       "      <td>0</td>\n",
       "      <td>XR_FINGER</td>\n",
       "    </tr>\n",
       "  </tbody>\n",
       "</table>\n",
       "<p>3197 rows × 3 columns</p>\n",
       "</div>"
      ],
      "text/plain": [
       "                                                   path label study_type\n",
       "0     MURA-v1.1/test/XR_WRIST/patient11185/study1_po...     1   XR_WRIST\n",
       "1     MURA-v1.1/test/XR_WRIST/patient11185/study1_po...     1   XR_WRIST\n",
       "2     MURA-v1.1/test/XR_WRIST/patient11185/study1_po...     1   XR_WRIST\n",
       "3     MURA-v1.1/test/XR_WRIST/patient11185/study1_po...     1   XR_WRIST\n",
       "4     MURA-v1.1/test/XR_WRIST/patient11186/study1_po...     1   XR_WRIST\n",
       "...                                                 ...   ...        ...\n",
       "3192  MURA-v1.1/test/XR_FINGER/patient11967/study1_n...     0  XR_FINGER\n",
       "3193  MURA-v1.1/test/XR_FINGER/patient11967/study1_n...     0  XR_FINGER\n",
       "3194  MURA-v1.1/test/XR_FINGER/patient11738/study1_n...     0  XR_FINGER\n",
       "3195  MURA-v1.1/test/XR_FINGER/patient11738/study1_n...     0  XR_FINGER\n",
       "3196  MURA-v1.1/test/XR_FINGER/patient11738/study1_n...     0  XR_FINGER\n",
       "\n",
       "[3197 rows x 3 columns]"
      ]
     },
     "execution_count": 6,
     "metadata": {},
     "output_type": "execute_result"
    }
   ],
   "source": [
    "test_img['label'] = test_img['path'].map(\n",
    "    lambda x: '1' if 'positive' in x else '0'\n",
    ")\n",
    "\n",
    "test_img['study_type'] = test_img['path'].map(\n",
    "    lambda x: x.split('/')[2]\n",
    ")\n",
    "\n",
    "test_img"
   ]
  },
  {
   "cell_type": "code",
   "execution_count": 7,
   "metadata": {},
   "outputs": [],
   "source": [
    "img_height = img_width = 300\n",
    "\n",
    "def resize_img(img):\n",
    "    try:\n",
    "        img = cv2.cvtColor(img, cv2.COLOR_GRAY2RGB)\n",
    "    except:\n",
    "        print('error in resizing')\n",
    "        img1 = isinstance(img, type(None))\n",
    "        print('Does image is none: ', img1)\n",
    "        print(img.shape)\n",
    "    return cv2.resize(img, (img_height, img_width))\n",
    "\n",
    "def canny_cropping(img):\n",
    "    convert_img = np.array(img, dtype=np.uint8)\n",
    "\n",
    "    gray = cv2.cvtColor(convert_img, cv2.COLOR_RGB2GRAY)\n",
    "\n",
    "\n",
    "    ave_brightness = math.floor(np.average(gray))\n",
    "    min_pixel = min(gray.flatten())\n",
    "\n",
    "    edges = cv2.Canny(gray, min_pixel, ave_brightness)\n",
    "    cnts = cv2.findContours(edges.copy(), cv2.RETR_EXTERNAL, cv2.CHAIN_APPROX_SIMPLE)\n",
    "    cnts = cnts[0] if len(cnts) == 2 else cnts[1]\n",
    "    cnts = sorted(cnts, key=cv2.contourArea, reverse=True)\n",
    "\n",
    "    for c in cnts:\n",
    "        x, y, w, h = cv2.boundingRect(edges)\n",
    "        gray = gray[y:y+h, x:x+w]\n",
    "        break\n",
    "\n",
    "    return gray\n",
    "\n",
    "def apply_clahe(img):\n",
    "    clahe = cv2.createCLAHE(clipLimit=2.0, tileGridSize=(8, 8))\n",
    "    return clahe.apply(img.astype(np.uint8))\n",
    "\n",
    "def preprocessing_without_clahe(img):\n",
    "    cropped = canny_cropping(img)\n",
    "    return resize_img(cropped)\n",
    "\n",
    "def preprocessing_with_clahe(img):\n",
    "    cropped = canny_cropping(img)\n",
    "    clahe = apply_clahe(cropped)\n",
    "    return resize_img(clahe)\n"
   ]
  },
  {
   "cell_type": "markdown",
   "metadata": {},
   "source": [
    "# Evaluation of Model Without CLAHE"
   ]
  },
  {
   "cell_type": "code",
   "execution_count": 8,
   "metadata": {},
   "outputs": [
    {
     "name": "stdout",
     "output_type": "stream",
     "text": [
      "Found 3197 validated image filenames belonging to 2 classes.\n"
     ]
    }
   ],
   "source": [
    "batch = 8\n",
    "data_path = 'dataset/'\n",
    "\n",
    "test_batches_without_clahe = ImageDataGenerator(\n",
    "    preprocessing_function=preprocessing_without_clahe\n",
    ").flow_from_dataframe(\n",
    "    target_size=(img_height, img_width),\n",
    "    dataframe=test_img, \n",
    "    directory= data_path,\n",
    "    class_mode='binary',\n",
    "    x_col='path',\n",
    "    y_col='label',\n",
    "    batch_size=batch, \n",
    "    shuffle=False)"
   ]
  },
  {
   "cell_type": "code",
   "execution_count": 9,
   "metadata": {},
   "outputs": [],
   "source": [
    "model_without_clahe = tf.keras.models.load_model(\n",
    "    'models/without_clahe/efficientnetv2-b3_finetuned.h5',\n",
    "    custom_objects={'F1Score': F1Score}\n",
    ")"
   ]
  },
  {
   "cell_type": "code",
   "execution_count": 10,
   "metadata": {},
   "outputs": [
    {
     "name": "stderr",
     "output_type": "stream",
     "text": [
      "2022-09-25 23:56:37.130231: I tensorflow/stream_executor/cuda/cuda_dnn.cc:384] Loaded cuDNN version 8500\n",
      "2022-09-25 23:56:38.057231: I tensorflow/core/platform/default/subprocess.cc:304] Start cannot spawn child process: No such file or directory\n"
     ]
    },
    {
     "name": "stdout",
     "output_type": "stream",
     "text": [
      "400/400 [==============================] - 38s 81ms/step - loss: 0.4926 - binary_accuracy: 0.8148 - precision: 0.8399 - recall: 0.7575 - cohen_kappa: 0.6275 - f1_score: 0.7966\n"
     ]
    }
   ],
   "source": [
    "eval_without_clahe = model_without_clahe.evaluate(\n",
    "    test_batches_without_clahe, \n",
    "    verbose = 1\n",
    ")\n"
   ]
  },
  {
   "cell_type": "code",
   "execution_count": 11,
   "metadata": {},
   "outputs": [
    {
     "name": "stdout",
     "output_type": "stream",
     "text": [
      "================================\n",
      "test loss   : 0.4925764203071594\n",
      "binary_accuracy: 0.8148264288902283\n",
      "precision   : 0.8398550748825073\n",
      "recall      : 0.7575163245201111\n",
      "cohen_kappa : 0.6274706721305847\n",
      "f1_score    : 0.7965636253356934\n",
      "================================\n"
     ]
    }
   ],
   "source": [
    "eval_results = []\n",
    "\n",
    "loss = eval_without_clahe.pop(0)\n",
    "\n",
    "eval_results.append({'metric': 'test loss', 'value': loss})\n",
    "\n",
    "# print('=' * 32)\n",
    "# print(f'test loss   : {loss}')\n",
    "\n",
    "for metric, score in zip(METRICS, eval_without_clahe):\n",
    "    eval_results.append({'metric': metric.name, 'value': score})\n",
    "    # print(f\"{metric.name + ' ' * (12 - len(metric.name))}: {score}\")\n",
    "\n",
    "write_csv(\n",
    "    eval_results, \n",
    "    'testing_results/without_clahe/evaluation_results.csv'\n",
    ")\n",
    "\n",
    "print('=' * 32)\n",
    "for result in eval_results:\n",
    "    print(f\"{result['metric'] + ' ' * (12 - len(result['metric']))}: {result['value']}\")\n",
    "print('=' * 32)\n"
   ]
  },
  {
   "cell_type": "code",
   "execution_count": 12,
   "metadata": {},
   "outputs": [
    {
     "name": "stdout",
     "output_type": "stream",
     "text": [
      "400/400 [==============================] - 33s 78ms/step\n"
     ]
    }
   ],
   "source": [
    "predictions_without_clahe = model_without_clahe.predict(test_batches_without_clahe, verbose=1)"
   ]
  },
  {
   "cell_type": "code",
   "execution_count": 13,
   "metadata": {},
   "outputs": [],
   "source": [
    "conv_prediction_without_clahe = test_img.copy()\n",
    "\n",
    "conv_prediction_without_clahe['label'] = conv_prediction_without_clahe['label'].map(int)\n",
    "conv_prediction_without_clahe['prediction'] = predictions_without_clahe.ravel()"
   ]
  },
  {
   "cell_type": "code",
   "execution_count": 14,
   "metadata": {},
   "outputs": [],
   "source": [
    "conv_prediction_without_clahe = pd.DataFrame(\n",
    "    [*study_oriented_transformation(conv_prediction_without_clahe)],\n",
    "    columns=['study_type', 'study', 'label', 'prediction'],\n",
    ")"
   ]
  },
  {
   "cell_type": "markdown",
   "metadata": {},
   "source": [
    "## Evaluation for all body parts concerned"
   ]
  },
  {
   "cell_type": "code",
   "execution_count": 15,
   "metadata": {},
   "outputs": [
    {
     "name": "stdout",
     "output_type": "stream",
     "text": [
      "====================================================\n",
      "Prediction for all Musculoskeletal radiographs\n",
      "-----------------\n",
      "Cohen's kappa Coefficient (κ) : 0.6274706867671691\n",
      "F1 Score                      : 0.7965635738831616\n",
      "Accuracy                      : 0.8148263997497655\n",
      "Precision                     : 0.8398550724637681\n",
      "Recall                        : 0.757516339869281\n",
      "====================================================\n"
     ]
    }
   ],
   "source": [
    "results_without_clahe = prediction_results(conv_prediction_without_clahe)\n",
    "\n",
    "write_csv(\n",
    "    results_without_clahe, \n",
    "    'testing_results/without_clahe/general_prediction_results.csv'\n",
    ")\n",
    "\n",
    "print('=' * 52)\n",
    "print('Prediction for all Musculoskeletal radiographs')\n",
    "print('-----------------')\n",
    "for result in results_without_clahe[:-1]:\n",
    "    print(f\"{result['metric'] + ' ' * (30 - len(result['metric']))}: {result['value']}\")\n",
    "print('=' * 52)\n"
   ]
  },
  {
   "cell_type": "code",
   "execution_count": 16,
   "metadata": {},
   "outputs": [
    {
     "name": "stdout",
     "output_type": "stream",
     "text": [
      "[[1446  221]\n",
      " [ 371 1159]]\n"
     ]
    },
    {
     "data": {
      "text/plain": [
       "<Figure size 432x288 with 0 Axes>"
      ]
     },
     "metadata": {},
     "output_type": "display_data"
    }
   ],
   "source": [
    "cm_general_without_clahe = results_without_clahe[-1]['value']\n",
    "print(cm_general_without_clahe)\n",
    "plot_confusion_matrix(\n",
    "    cm_general_without_clahe, \n",
    "    CLASSES, \n",
    "    'Confusion Matrix for all Musculoskeletal Parts',\n",
    "    False,\n",
    ")"
   ]
  },
  {
   "cell_type": "markdown",
   "metadata": {},
   "source": [
    "## Evaluation per body types"
   ]
  },
  {
   "cell_type": "code",
   "execution_count": 17,
   "metadata": {},
   "outputs": [
    {
     "name": "stdout",
     "output_type": "stream",
     "text": [
      "====================================================\n",
      "Prediction for XR_ELBOW radiographs\n",
      "-----------------\n",
      "Cohen's kappa Coefficient (κ) : 0.6941781297762957\n",
      "F1 Score                      : 0.8352668213457077\n",
      "Accuracy                      : 0.8473118279569892\n",
      "Precision                     : 0.8955223880597015\n",
      "Recall                        : 0.782608695652174\n",
      "====================================================\n",
      "====================================================\n",
      "Prediction for XR_FINGER radiographs\n",
      "-----------------\n",
      "Cohen's kappa Coefficient (κ) : 0.5627048602958441\n",
      "F1 Score                      : 0.7855626326963906\n",
      "Accuracy                      : 0.7809110629067245\n",
      "Precision                     : 0.8258928571428571\n",
      "Recall                        : 0.7489878542510121\n",
      "====================================================\n",
      "====================================================\n",
      "Prediction for XR_FOREARM radiographs\n",
      "-----------------\n",
      "Cohen's kappa Coefficient (κ) : 0.6347329170619773\n",
      "F1 Score                      : 0.8028673835125448\n",
      "Accuracy                      : 0.8172757475083057\n",
      "Precision                     : 0.875\n",
      "Recall                        : 0.7417218543046358\n",
      "====================================================\n",
      "====================================================\n",
      "Prediction for XR_HAND radiographs\n",
      "-----------------\n",
      "Cohen's kappa Coefficient (κ) : 0.5274975861289726\n",
      "F1 Score                      : 0.6835443037974683\n",
      "Accuracy                      : 0.782608695652174\n",
      "Precision                     : 0.8503937007874016\n",
      "Recall                        : 0.5714285714285714\n",
      "====================================================\n",
      "====================================================\n",
      "Prediction for XR_HUMERUS radiographs\n",
      "-----------------\n",
      "Cohen's kappa Coefficient (κ) : 0.7429067747539084\n",
      "F1 Score                      : 0.8683274021352313\n",
      "Accuracy                      : 0.8715277777777778\n",
      "Precision                     : 0.8652482269503546\n",
      "Recall                        : 0.8714285714285714\n",
      "====================================================\n",
      "====================================================\n",
      "Prediction for XR_SHOULDER radiographs\n",
      "-----------------\n",
      "Cohen's kappa Coefficient (κ) : 0.5666553103430871\n",
      "F1 Score                      : 0.7829181494661922\n",
      "Accuracy                      : 0.783303730017762\n",
      "Precision                     : 0.7746478873239436\n",
      "Recall                        : 0.7913669064748201\n",
      "====================================================\n",
      "====================================================\n",
      "Prediction for XR_WRIST radiographs\n",
      "-----------------\n",
      "Cohen's kappa Coefficient (κ) : 0.6726309869716\n",
      "F1 Score                      : 0.8140350877192982\n",
      "Accuracy                      : 0.8391502276176024\n",
      "Precision                     : 0.8436363636363636\n",
      "Recall                        : 0.7864406779661017\n",
      "====================================================\n"
     ]
    },
    {
     "data": {
      "text/plain": [
       "<Figure size 432x288 with 0 Axes>"
      ]
     },
     "metadata": {},
     "output_type": "display_data"
    }
   ],
   "source": [
    "for body_part in STUDY_TYPES:\n",
    "    parts = conv_prediction_without_clahe[conv_prediction_without_clahe['study_type'] == body_part]\n",
    "    results = prediction_results(parts)\n",
    "    write_csv(\n",
    "        results_without_clahe, \n",
    "        f'testing_results/without_clahe/{body_part}_prediction_results.csv'\n",
    "    )\n",
    "    parts_cm = results[-1]['value']\n",
    "    plot_confusion_matrix(\n",
    "        parts_cm, \n",
    "        CLASSES, \n",
    "        f'Confusion Matrix for {body_part}', \n",
    "        False\n",
    "    )\n",
    "    print('=' * 52)\n",
    "    print(f'Prediction for {body_part} radiographs')\n",
    "    print('-----------------')\n",
    "    for result in results[:-1]:\n",
    "        print(f\"{result['metric'] + ' ' * (30 - len(result['metric']))}: {result['value']}\")\n",
    "    print('=' * 52)\n"
   ]
  },
  {
   "cell_type": "markdown",
   "metadata": {},
   "source": [
    "# Evaluation of Model with CLAHE"
   ]
  },
  {
   "cell_type": "code",
   "execution_count": 18,
   "metadata": {},
   "outputs": [
    {
     "name": "stdout",
     "output_type": "stream",
     "text": [
      "Found 3197 validated image filenames belonging to 2 classes.\n"
     ]
    }
   ],
   "source": [
    "batch = 8\n",
    "data_path = 'dataset/'\n",
    "\n",
    "test_batches_with_clahe = ImageDataGenerator(\n",
    "    preprocessing_function=preprocessing_with_clahe\n",
    ").flow_from_dataframe(\n",
    "    target_size=(img_height, img_width),\n",
    "    dataframe=test_img, \n",
    "    directory= data_path,\n",
    "    class_mode='binary',\n",
    "    x_col='path',\n",
    "    y_col='label',\n",
    "    batch_size=batch, \n",
    "    shuffle=False)"
   ]
  },
  {
   "cell_type": "code",
   "execution_count": 19,
   "metadata": {},
   "outputs": [],
   "source": [
    "model_with_clahe = tf.keras.models.load_model(\n",
    "    'models/with_clahe/efficientnetv2-b3_finetuned.h5',\n",
    "    custom_objects={'F1Score': F1Score}\n",
    ")"
   ]
  },
  {
   "cell_type": "code",
   "execution_count": 20,
   "metadata": {},
   "outputs": [
    {
     "name": "stdout",
     "output_type": "stream",
     "text": [
      "400/400 [==============================] - 36s 80ms/step - loss: 0.8139 - binary_accuracy: 0.7992 - precision: 0.8208 - recall: 0.7425 - cohen_kappa: 0.5961 - f1_score: 0.7797\n"
     ]
    }
   ],
   "source": [
    "eval_with_clahe = model_with_clahe.evaluate(\n",
    "    test_batches_with_clahe, \n",
    "    verbose = 1\n",
    ")"
   ]
  },
  {
   "cell_type": "code",
   "execution_count": 21,
   "metadata": {},
   "outputs": [
    {
     "name": "stdout",
     "output_type": "stream",
     "text": [
      "================================\n",
      "test loss   : 0.8139409422874451\n",
      "binary_accuracy: 0.7991867661476135\n",
      "precision   : 0.8208092451095581\n",
      "recall      : 0.7424836754798889\n",
      "cohen_kappa : 0.5960506200790405\n",
      "f1_score    : 0.7796842455863953\n",
      "================================\n"
     ]
    }
   ],
   "source": [
    "with_clahe_eval_results = []\n",
    "\n",
    "loss = eval_with_clahe.pop(0)\n",
    "\n",
    "with_clahe_eval_results.append({'metric': 'test loss', 'value': loss})\n",
    "\n",
    "\n",
    "for metric, score in zip(METRICS, eval_with_clahe):\n",
    "    with_clahe_eval_results.append({'metric': metric.name, 'value': score})\n",
    "\n",
    "write_csv(\n",
    "    with_clahe_eval_results, \n",
    "    'testing_results/with_clahe/evaluation_results.csv'\n",
    ")\n",
    "\n",
    "print('=' * 32)\n",
    "for result in with_clahe_eval_results:\n",
    "    print(f\"{result['metric'] + ' ' * (12 - len(result['metric']))}: {result['value']}\")\n",
    "print('=' * 32)\n"
   ]
  },
  {
   "cell_type": "code",
   "execution_count": 22,
   "metadata": {},
   "outputs": [
    {
     "name": "stdout",
     "output_type": "stream",
     "text": [
      "400/400 [==============================] - 34s 80ms/step\n"
     ]
    }
   ],
   "source": [
    "predictions_with_clahe = model_with_clahe.predict(test_batches_with_clahe, verbose=1)"
   ]
  },
  {
   "cell_type": "code",
   "execution_count": 23,
   "metadata": {},
   "outputs": [],
   "source": [
    "conv_prediction_with_clahe = test_img.copy()\n",
    "\n",
    "conv_prediction_with_clahe['label'] = conv_prediction_with_clahe['label'].map(int)\n",
    "conv_prediction_with_clahe['prediction'] = predictions_with_clahe.ravel()"
   ]
  },
  {
   "cell_type": "code",
   "execution_count": 24,
   "metadata": {},
   "outputs": [],
   "source": [
    "conv_prediction_with_clahe = pd.DataFrame(\n",
    "    [*study_oriented_transformation(conv_prediction_with_clahe)],\n",
    "    columns=['study_type', 'study', 'label', 'prediction'],\n",
    ")"
   ]
  },
  {
   "cell_type": "code",
   "execution_count": 25,
   "metadata": {},
   "outputs": [
    {
     "name": "stdout",
     "output_type": "stream",
     "text": [
      "====================================================\n",
      "Prediction for all Musculoskeletal radiographs\n",
      "-----------------\n",
      "Cohen's kappa Coefficient (κ) : 0.596050633947764\n",
      "F1 Score                      : 0.7796842827728209\n",
      "Accuracy                      : 0.7991867375664685\n",
      "Precision                     : 0.8208092485549133\n",
      "Recall                        : 0.742483660130719\n",
      "====================================================\n"
     ]
    }
   ],
   "source": [
    "results_with_clahe = prediction_results(conv_prediction_with_clahe)\n",
    "\n",
    "write_csv(\n",
    "    results_with_clahe, \n",
    "    'testing_results/with_clahe/general_prediction_results.csv'\n",
    ")\n",
    "\n",
    "print('=' * 52)\n",
    "print('Prediction for all Musculoskeletal radiographs')\n",
    "print('-----------------')\n",
    "for result in results_with_clahe[:-1]:\n",
    "    print(f\"{result['metric'] + ' ' * (30 - len(result['metric']))}: {result['value']}\")\n",
    "print('=' * 52)\n"
   ]
  },
  {
   "cell_type": "code",
   "execution_count": 26,
   "metadata": {},
   "outputs": [
    {
     "name": "stdout",
     "output_type": "stream",
     "text": [
      "[[1419  248]\n",
      " [ 394 1136]]\n"
     ]
    },
    {
     "data": {
      "text/plain": [
       "<Figure size 432x288 with 0 Axes>"
      ]
     },
     "metadata": {},
     "output_type": "display_data"
    }
   ],
   "source": [
    "cm_general_with_clahe = results_with_clahe[-1]['value']\n",
    "print(cm_general_with_clahe)\n",
    "plot_confusion_matrix(\n",
    "    cm_general_with_clahe, \n",
    "    CLASSES, \n",
    "    'Confusion Matrix for all Musculoskeletal Parts',\n",
    "    True,\n",
    "    )"
   ]
  },
  {
   "cell_type": "code",
   "execution_count": 27,
   "metadata": {},
   "outputs": [
    {
     "name": "stdout",
     "output_type": "stream",
     "text": [
      "====================================================\n",
      "Prediction for XR_ELBOW radiographs\n",
      "-----------------\n",
      "Cohen's kappa Coefficient (κ) : 0.6943197074209527\n",
      "F1 Score                      : 0.8390022675736961\n",
      "Accuracy                      : 0.8473118279569892\n",
      "Precision                     : 0.8767772511848341\n",
      "Recall                        : 0.8043478260869565\n",
      "====================================================\n",
      "====================================================\n",
      "Prediction for XR_FINGER radiographs\n",
      "-----------------\n",
      "Cohen's kappa Coefficient (κ) : 0.4642850448896969\n",
      "F1 Score                      : 0.7327586206896551\n",
      "Accuracy                      : 0.7310195227765727\n",
      "Precision                     : 0.783410138248848\n",
      "Recall                        : 0.6882591093117408\n",
      "====================================================\n",
      "====================================================\n",
      "Prediction for XR_FOREARM radiographs\n",
      "-----------------\n",
      "Cohen's kappa Coefficient (κ) : 0.6347973792768746\n",
      "F1 Score                      : 0.7970479704797048\n",
      "Accuracy                      : 0.8172757475083057\n",
      "Precision                     : 0.9\n",
      "Recall                        : 0.7152317880794702\n",
      "====================================================\n",
      "====================================================\n",
      "Prediction for XR_HAND radiographs\n",
      "-----------------\n",
      "Cohen's kappa Coefficient (κ) : 0.5048488994406664\n",
      "F1 Score                      : 0.6862170087976539\n",
      "Accuracy                      : 0.7673913043478261\n",
      "Precision                     : 0.7697368421052632\n",
      "Recall                        : 0.6190476190476191\n",
      "====================================================\n",
      "====================================================\n",
      "Prediction for XR_HUMERUS radiographs\n",
      "-----------------\n",
      "Cohen's kappa Coefficient (κ) : 0.7498069498069497\n",
      "F1 Score                      : 0.8714285714285714\n",
      "Accuracy                      : 0.875\n",
      "Precision                     : 0.8714285714285714\n",
      "Recall                        : 0.8714285714285714\n",
      "====================================================\n",
      "====================================================\n",
      "Prediction for XR_SHOULDER radiographs\n",
      "-----------------\n",
      "Cohen's kappa Coefficient (κ) : 0.523568343142951\n",
      "F1 Score                      : 0.7518518518518519\n",
      "Accuracy                      : 0.7619893428063943\n",
      "Precision                     : 0.7748091603053435\n",
      "Recall                        : 0.7302158273381295\n",
      "====================================================\n",
      "====================================================\n",
      "Prediction for XR_WRIST radiographs\n",
      "-----------------\n",
      "Cohen's kappa Coefficient (κ) : 0.6456376278271604\n",
      "F1 Score                      : 0.8006932409012131\n",
      "Accuracy                      : 0.8254931714719271\n",
      "Precision                     : 0.8191489361702128\n",
      "Recall                        : 0.7830508474576271\n",
      "====================================================\n"
     ]
    },
    {
     "data": {
      "text/plain": [
       "<Figure size 432x288 with 0 Axes>"
      ]
     },
     "metadata": {},
     "output_type": "display_data"
    }
   ],
   "source": [
    "for body_part in STUDY_TYPES:\n",
    "    parts = conv_prediction_with_clahe[conv_prediction_with_clahe['study_type'] == body_part]\n",
    "    results = prediction_results(parts)\n",
    "    write_csv(\n",
    "        results_with_clahe, \n",
    "        f'testing_results/with_clahe/{body_part}_prediction_results.csv'\n",
    "    )\n",
    "    parts_cm = results[-1]['value']\n",
    "    plot_confusion_matrix(\n",
    "        parts_cm, \n",
    "        CLASSES, \n",
    "        f'Confusion Matrix for {body_part}', \n",
    "        True\n",
    "    )\n",
    "    print('=' * 52)\n",
    "    print(f'Prediction for {body_part} radiographs')\n",
    "    print('-----------------')\n",
    "    for result in results[:-1]:\n",
    "        print(f\"{result['metric'] + ' ' * (30 - len(result['metric']))}: {result['value']}\")\n",
    "    print('=' * 52)"
   ]
  },
  {
   "cell_type": "markdown",
   "metadata": {},
   "source": [
    "# Compare the two models using McNemar's Test"
   ]
  },
  {
   "cell_type": "code",
   "execution_count": 28,
   "metadata": {},
   "outputs": [
    {
     "name": "stdout",
     "output_type": "stream",
     "text": [
      "[[2378  227]\n",
      " [ 177  415]]\n"
     ]
    },
    {
     "data": {
      "text/plain": [
       "<Figure size 432x288 with 0 Axes>"
      ]
     },
     "metadata": {},
     "output_type": "display_data"
    }
   ],
   "source": [
    "comparison = mcnemar_table(\n",
    "    y_target= np.array(conv_prediction_without_clahe['label']),\n",
    "    y_model1= np.array(conv_prediction_without_clahe['prediction']),\n",
    "    y_model2= np.array(conv_prediction_with_clahe['prediction']),\n",
    ")\n",
    "print(comparison)\n",
    "plot_contigency_table(\n",
    "    comparison, \n",
    "    ['Correct', 'Wrong'],\n",
    "    'Contigency Table for Both Models'\n",
    ")"
   ]
  },
  {
   "cell_type": "code",
   "execution_count": 31,
   "metadata": {},
   "outputs": [
    {
     "name": "stdout",
     "output_type": "stream",
     "text": [
      "===================================\n",
      "McNemar's test without correction\n",
      "pvalue      0.01477526655224646\n",
      "statistic   5.943069306930693\n",
      "===================================\n",
      "McNemar's test with correction\n",
      "pvalue      0.01477526655224646\n",
      "statistic   5.943069306930693\n"
     ]
    }
   ],
   "source": [
    "mncnemar_without_correction = mcnemar(comparison, exact=False)\n",
    "mncnemar_with_correction = mcnemar(comparison, exact=False, correction=True)\n",
    "\n",
    "print('=' * 35)\n",
    "print('McNemar\\'s test without correction')\n",
    "print(mncnemar_without_correction)\n",
    "print('=' * 35)\n",
    "print('McNemar\\'s test with correction')\n",
    "print(mncnemar_with_correction)"
   ]
  },
  {
   "cell_type": "code",
   "execution_count": null,
   "metadata": {},
   "outputs": [],
   "source": []
  }
 ],
 "metadata": {
  "kernelspec": {
   "display_name": "Python 3.10.4 ('tf')",
   "language": "python",
   "name": "python3"
  },
  "language_info": {
   "codemirror_mode": {
    "name": "ipython",
    "version": 3
   },
   "file_extension": ".py",
   "mimetype": "text/x-python",
   "name": "python",
   "nbconvert_exporter": "python",
   "pygments_lexer": "ipython3",
   "version": "3.10.4"
  },
  "orig_nbformat": 4,
  "vscode": {
   "interpreter": {
    "hash": "cc8277c022b40a7967f16eaa0bea1d62eb816dd5bd191fd82024db14f554ddcb"
   }
  }
 },
 "nbformat": 4,
 "nbformat_minor": 2
}
